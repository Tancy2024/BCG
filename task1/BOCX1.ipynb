{
 "cells": [
  {
   "cell_type": "code",
   "execution_count": 4,
   "metadata": {},
   "outputs": [
    {
     "name": "stdout",
     "output_type": "stream",
     "text": [
      "     Company  Year  Total Revenue  Net Income  Total Assets  \\\n",
      "0  Microsoft  2024         245122       88136        512163   \n",
      "1  Microsoft  2023         211915       72361        411976   \n",
      "2  Microsoft  2022         198270       72738        364840   \n",
      "3      Tesla  2023          96773       14974        106618   \n",
      "4      Tesla  2022          81462       12587         82338   \n",
      "5      Tesla  2021          53823        5644         62131   \n",
      "6      Apple  2024         391035       93736        364980   \n",
      "7      Apple  2023         383285       96995        352583   \n",
      "8      Apple  2022         394328       99803        352755   \n",
      "\n",
      "   Total Liabilities  Cash Flow from Operating Activities  Revenue Growth (%)  \\\n",
      "0             243686                               118548            0.000000   \n",
      "1             205753                                87582          -13.547132   \n",
      "2             198298                                89035           -6.438902   \n",
      "3              43009                                13256            0.000000   \n",
      "4              36440                                14724          -15.821562   \n",
      "5              30548                                11497          -33.928703   \n",
      "6             308030                               118254            0.000000   \n",
      "7             290437                               110543           -1.981920   \n",
      "8             302083                               122151            2.881146   \n",
      "\n",
      "   Net Income Growth (%)  \n",
      "0               0.000000  \n",
      "1             -17.898475  \n",
      "2               0.520999  \n",
      "3               0.000000  \n",
      "4             -15.940964  \n",
      "5             -55.160086  \n",
      "6               0.000000  \n",
      "7               3.476786  \n",
      "8               2.894995  \n",
      "\n",
      "Year-over-Year Average Growth Rates (%):\n",
      "     Company  Revenue Growth (%)  Net Income Growth (%)\n",
      "0      Apple            0.299742               2.123927\n",
      "1  Microsoft           -6.662011              -5.792492\n",
      "2      Tesla          -16.583422             -23.700350\n"
     ]
    }
   ],
   "source": [
    "import pandas as pd\n",
    "\n",
    "# Load the data from the Excel spreadsheet\n",
    "df = pd.read_excel(r\"E:\\00-Study in Adelaide\\Forage\\02-BCGX\\10-K data.xlsx\")\n",
    "\n",
    "# Calculate year-over-year growth rates for Total Revenue and Net Income\n",
    "df['Revenue Growth (%)'] = df.groupby('Company')['Total Revenue'].pct_change() * 100\n",
    "df['Net Income Growth (%)'] = df.groupby('Company')['Net Income'].pct_change() * 100\n",
    "\n",
    "# Fill NA values that result from pct_change calculations with 0 or an appropriate value\n",
    "df.fillna(0, inplace=True)\n",
    "\n",
    "# Display the dataframe to verify the calculations\n",
    "print(df)\n",
    "\n",
    "# Optionally, you could summarize these findings for each company\n",
    "summary = df.groupby('Company').agg({\n",
    "    'Revenue Growth (%)': 'mean',\n",
    "    'Net Income Growth (%)': 'mean'\n",
    "}).reset_index()\n",
    "\n",
    "print(\"\\nYear-over-Year Average Growth Rates (%):\")\n",
    "print(summary)"
   ]
  }
 ],
 "metadata": {
  "kernelspec": {
   "display_name": "base",
   "language": "python",
   "name": "python3"
  },
  "language_info": {
   "codemirror_mode": {
    "name": "ipython",
    "version": 3
   },
   "file_extension": ".py",
   "mimetype": "text/x-python",
   "name": "python",
   "nbconvert_exporter": "python",
   "pygments_lexer": "ipython3",
   "version": "3.11.7"
  }
 },
 "nbformat": 4,
 "nbformat_minor": 2
}
